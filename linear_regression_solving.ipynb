{
 "cells": [
  {
   "cell_type": "code",
   "execution_count": 89,
   "metadata": {},
   "outputs": [],
   "source": [
    "import numpy as np\n",
    "import matplotlib.pyplot as plt\n",
    "from sklearn.linear_model import LinearRegression, Ridge"
   ]
  },
  {
   "cell_type": "markdown",
   "metadata": {},
   "source": [
    "## Дано"
   ]
  },
  {
   "cell_type": "code",
   "execution_count": 177,
   "metadata": {},
   "outputs": [
    {
     "name": "stdout",
     "output_type": "stream",
     "text": [
      "Даны 50 точек распределенных на отрезке [-5, 5] согласно уравнению:\n",
      "y = 3.0 + -0.1 * x + N(0, 0.5)\n"
     ]
    }
   ],
   "source": [
    "# коэффициенты линейной регрессии\n",
    "w0_true, w1_true = 3.0, -0.1\n",
    "x_min, x_max = -5, 5\n",
    "noise_loc, noise_scale = 0, 0.5\n",
    "N = 50\n",
    "print(\n",
    "    f\"Даны {N} точек распределенных на отрезке {[x_min, x_max]} согласно уравнению:\\n\"\n",
    "    f\"y = {w0_true} + {w1_true} * x + N{noise_loc, noise_scale}\"\n",
    ")"
   ]
  },
  {
   "cell_type": "code",
   "execution_count": 201,
   "metadata": {},
   "outputs": [],
   "source": [
    "np.random.seed(42)\n",
    "\n",
    "i = np.linspace(x_min, x_max, N)\n",
    "X = np.vstack((\n",
    "    np.ones(N, dtype=\"float\"), i\n",
    ")).T\n",
    "y = w0_true + w1_true * i + np.random.normal(noise_loc, noise_scale, size=N)"
   ]
  },
  {
   "cell_type": "code",
   "execution_count": 202,
   "metadata": {},
   "outputs": [
    {
     "data": {
      "text/plain": [
       "((50, 2), (50,))"
      ]
     },
     "execution_count": 202,
     "metadata": {},
     "output_type": "execute_result"
    }
   ],
   "source": [
    "X.shape, y.shape"
   ]
  },
  {
   "cell_type": "code",
   "execution_count": 203,
   "metadata": {},
   "outputs": [
    {
     "data": {
      "text/plain": [
       "array([ 1., -5.])"
      ]
     },
     "execution_count": 203,
     "metadata": {},
     "output_type": "execute_result"
    }
   ],
   "source": [
    "X[0]"
   ]
  },
  {
   "cell_type": "code",
   "execution_count": 204,
   "metadata": {},
   "outputs": [
    {
     "data": {
      "image/png": "[encoded data removed]",
      "text/plain": [
       "<Figure size 432x288 with 1 Axes>"
      ]
     },
     "metadata": {
      "needs_background": "light"
     },
     "output_type": "display_data"
    }
   ],
   "source": [
    "plt.scatter(X[:,1], y)\n",
    "plt.plot(i, w0_true + w1_true * i, label='true', linestyle='dashed')\n",
    "plt.xlim(x_min, x_max)\n",
    "plt.legend()\n",
    "plt.title(\"Распределение точек и линия регрессии\")\n",
    "plt.show()"
   ]
  },
  {
   "cell_type": "markdown",
   "metadata": {},
   "source": [
    "# Решение"
   ]
  },
  {
   "cell_type": "markdown",
   "metadata": {},
   "source": [
    "## 1. Линейная регрессия, МНК (Least Squares)"
   ]
  },
  {
   "cell_type": "markdown",
   "metadata": {},
   "source": [
    "### 1.1 Аналитическое решение"
   ]
  },
  {
   "cell_type": "markdown",
   "metadata": {},
   "source": [
    "https://en.wikipedia.org/wiki/Least_squares\n",
    "\n",
    "$\\hat{w} = (X^TX)^{-1}X^Ty$"
   ]
  },
  {
   "cell_type": "code",
   "execution_count": 205,
   "metadata": {},
   "outputs": [],
   "source": [
    "w0_ls, w1_ls = np.matmul(np.matmul(np.linalg.inv(np.matmul(X.T, X)), X.T), y)"
   ]
  },
  {
   "cell_type": "code",
   "execution_count": 206,
   "metadata": {},
   "outputs": [
    {
     "name": "stdout",
     "output_type": "stream",
     "text": [
      "Коэффициенты МНК: (2.8873, -0.1290)\n"
     ]
    }
   ],
   "source": [
    "print(f\"Коэффициенты МНК: ({w0_ls:.4f}, {w1_ls:.4f})\")"
   ]
  },
  {
   "cell_type": "markdown",
   "metadata": {},
   "source": [
    "### 1.2 Градиентный спуск"
   ]
  },
  {
   "cell_type": "markdown",
   "metadata": {},
   "source": [
    "https://en.wikipedia.org/wiki/Gradient_descent\n",
    "\n",
    "$w^{t+1} = w^{t} - \\alpha \\nabla Q (w^{t})$\n",
    "\n",
    "$Q (w) = \\frac{1}{N}  \\sum_{i=1}^{N}(y_i - w x_i) ^ 2$"
   ]
  },
  {
   "cell_type": "code",
   "execution_count": 207,
   "metadata": {},
   "outputs": [],
   "source": [
    "def get_sgd_coefs(X, y, alpha=None):\n",
    "    np.random.seed(1)\n",
    "    w0, w1 = np.random.normal(size=2)\n",
    "    N = X.shape[0]\n",
    "    if alpha is None:\n",
    "        alpha = 1 / N\n",
    "    x = X[:,1]\n",
    "    for i in range(1000):\n",
    "        a = w0 + w1 * x\n",
    "\n",
    "        grad_f = 2 * (a - y)\n",
    "\n",
    "        grad_w0 = 1/N * np.sum(grad_f)\n",
    "        grad_w1 = 1/N * np.sum(grad_f * x)\n",
    "\n",
    "        w0 = w0 - alpha * grad_w0\n",
    "        w1 = w1 - alpha * grad_w1\n",
    "        if np.isclose(grad_w0, 0) and np.isclose(grad_w0, 0):\n",
    "            break\n",
    "    return w0, w1\n",
    "w0_gd, w1_gd = get_sgd_coefs(X, y)"
   ]
  },
  {
   "cell_type": "code",
   "execution_count": 208,
   "metadata": {},
   "outputs": [
    {
     "name": "stdout",
     "output_type": "stream",
     "text": [
      "Коэффициенты МНК (SGD): (2.8873, -0.1290)\n"
     ]
    }
   ],
   "source": [
    "print(f\"Коэффициенты МНК (SGD): ({w0_gd:.4f}, {w1_gd:.4f})\")"
   ]
  },
  {
   "cell_type": "markdown",
   "metadata": {},
   "source": [
    "### 1.3 LinearRegression (scikit-learn)\n",
    "`sklearn.linear_model.LinearRegression`"
   ]
  },
  {
   "cell_type": "code",
   "execution_count": 209,
   "metadata": {},
   "outputs": [],
   "source": [
    "lr = LinearRegression(fit_intercept=False).fit(X, y)\n",
    "w0_sklearn, w1_sklearn = lr.coef_"
   ]
  },
  {
   "cell_type": "code",
   "execution_count": 210,
   "metadata": {},
   "outputs": [
    {
     "name": "stdout",
     "output_type": "stream",
     "text": [
      "Коэффициенты МНК (SGD): (2.8873, -0.1290)\n"
     ]
    }
   ],
   "source": [
    "print(f\"Коэффициенты МНК (SGD): ({w0_sklearn:.4f}, {w1_sklearn:.4f})\")"
   ]
  },
  {
   "cell_type": "code",
   "execution_count": 211,
   "metadata": {},
   "outputs": [],
   "source": [
    "assert np.isclose(w0_sklearn, w0_gd)\n",
    "assert np.isclose(w1_sklearn, w1_gd)\n",
    "assert np.isclose(w0_ls, w0_gd)\n",
    "assert np.isclose(w1_ls, w1_gd)"
   ]
  },
  {
   "cell_type": "markdown",
   "metadata": {},
   "source": [
    "**Все оценки совпадают**"
   ]
  },
  {
   "cell_type": "code",
   "execution_count": 212,
   "metadata": {},
   "outputs": [
    {
     "data": {
      "image/png": "[encoded data removed]",
      "text/plain": [
       "<Figure size 432x288 with 1 Axes>"
      ]
     },
     "metadata": {
      "needs_background": "light"
     },
     "output_type": "display_data"
    }
   ],
   "source": [
    "plt.scatter(X[:,1], y)\n",
    "plt.plot(i, w0_true + w1_true * i, label='true', linestyle='dashed')\n",
    "plt.plot(i, w0_ls + w1_ls * i, label='least squares')\n",
    "plt.xlim(x_min, x_max)\n",
    "plt.legend()\n",
    "plt.title(\"Распределение точек и линии регрессии\")\n",
    "plt.show()"
   ]
  },
  {
   "cell_type": "markdown",
   "metadata": {},
   "source": [
    "## 2. Байесовская регрессия"
   ]
  },
  {
   "cell_type": "markdown",
   "metadata": {},
   "source": [
    "## 2.1 Аналитическое решение"
   ]
  },
  {
   "cell_type": "markdown",
   "metadata": {},
   "source": [
    "https://logic.pdmi.ras.ru/~sergey/teaching/mlspsu18/04-linbayes.pdf"
   ]
  },
  {
   "cell_type": "markdown",
   "metadata": {},
   "source": [
    "зависимость y:\n",
    "\n",
    "$p(y|X, w, \\sigma^2) = \\prod_{i=1}^{N}N(y_i|w^Tx_i, \\sigma^2)$"
   ]
  },
  {
   "cell_type": "markdown",
   "metadata": {},
   "source": [
    "априорное распределение w:\n",
    "\n",
    "$p(w) = N(w|\\mu_0, \\Sigma_0)$\n",
    "\n",
    "$\\mu_0 = 0$\n",
    "\n",
    "$\\Sigma_0 = \\alpha^{-1}I$"
   ]
  },
  {
   "cell_type": "markdown",
   "metadata": {},
   "source": [
    "апостериорное распределение w:\n",
    "\n",
    "$p(w|y, \\alpha, \\sigma^2) = N(w|\\mu_N, \\Sigma_N)$\n",
    "\n",
    "$\\mu_N = \\Sigma_N (\\Sigma_0^{-1} \\mu_0 + \\frac{1}{\\sigma^2}X^Ty)$\n",
    "\n",
    "$\\Sigma_N = (\\Sigma_0^{-1} + \\frac{1}{\\sigma^2}X^T X)^{-1}$"
   ]
  },
  {
   "cell_type": "code",
   "execution_count": 213,
   "metadata": {},
   "outputs": [],
   "source": [
    "def bayesian_update(mu, sigma, beta, x, y):\n",
    "    x_matrix = np.array(x)\n",
    "    sigma_n = np.linalg.inv(\n",
    "        np.linalg.inv(sigma) + \\\n",
    "        beta * np.matmul(np.transpose(x_matrix), x_matrix)\n",
    "    )\n",
    "    mu_n = np.matmul(\n",
    "        sigma_n,\n",
    "        np.matmul(\n",
    "            np.linalg.inv(sigma),\n",
    "            np.transpose(mu)\n",
    "        ) + beta * np.matmul(np.transpose(x_matrix), y )\n",
    "    )\n",
    "    sigma_x = 1 / beta + np.matmul(np.matmul(x_matrix, sigma_n), np.transpose(x_matrix))[0][0]\n",
    "    return mu_n, sigma_n, sigma_x"
   ]
  },
  {
   "cell_type": "code",
   "execution_count": 224,
   "metadata": {},
   "outputs": [],
   "source": [
    "alpha = 1\n",
    "sigma_x = 1\n",
    "beta = 1 / sigma_x ** 2"
   ]
  },
  {
   "cell_type": "code",
   "execution_count": 225,
   "metadata": {},
   "outputs": [],
   "source": [
    "cur_mu, cur_sigma = np.array([0, 0]), 1 / alpha * np.array([[1, 0], [0, 1]])"
   ]
  },
  {
   "cell_type": "code",
   "execution_count": 226,
   "metadata": {},
   "outputs": [],
   "source": [
    "for px, py in zip(X,y):\n",
    "    cur_mu, cur_sigma, sigma_x = bayesian_update(cur_mu, cur_sigma, beta, [px], [py])"
   ]
  },
  {
   "cell_type": "code",
   "execution_count": 227,
   "metadata": {},
   "outputs": [],
   "source": [
    "w0_bayes, w1_bayes = cur_mu"
   ]
  },
  {
   "cell_type": "code",
   "execution_count": 228,
   "metadata": {},
   "outputs": [
    {
     "name": "stdout",
     "output_type": "stream",
     "text": [
      "Коэффициенты МНК (SGD): (2.8307, -0.1287)\n"
     ]
    }
   ],
   "source": [
    "print(f\"Коэффициенты МНК (SGD): ({w0_bayes:.4f}, {w1_bayes:.4f})\")"
   ]
  },
  {
   "cell_type": "markdown",
   "metadata": {},
   "source": [
    "### 2.2 RidgeRegression (scikit-learn)\n",
    "`sklearn.linear_model.Ridge`"
   ]
  },
  {
   "cell_type": "code",
   "execution_count": 229,
   "metadata": {},
   "outputs": [],
   "source": [
    "lr = Ridge(alpha=alpha / beta, fit_intercept=False).fit(X, y)\n",
    "w0_ridge, w1_ridge = lr.coef_"
   ]
  },
  {
   "cell_type": "code",
   "execution_count": 230,
   "metadata": {},
   "outputs": [
    {
     "data": {
      "text/plain": [
       "(2.8306500464430684, -0.12869494434483367)"
      ]
     },
     "execution_count": 230,
     "metadata": {},
     "output_type": "execute_result"
    }
   ],
   "source": [
    "w0_ridge, w1_ridge"
   ]
  },
  {
   "cell_type": "code",
   "execution_count": 231,
   "metadata": {},
   "outputs": [],
   "source": [
    "assert np.isclose(w0_ridge, w0_bayes)\n",
    "assert np.isclose(w1_ridge, w1_bayes)"
   ]
  },
  {
   "cell_type": "markdown",
   "metadata": {},
   "source": [
    "Достоинство байесовской регрессии - получаем распределение w и y"
   ]
  },
  {
   "cell_type": "markdown",
   "metadata": {},
   "source": [
    "зависимость y:\n",
    "\n",
    "$p(y|y_{old}, \\alpha, \\sigma^2) = N(y|\\mu_N^TX, \\sigma_N^2)$\n",
    "\n",
    "$\\sigma_N^2 = \\sigma_0^2 + X^T \\Sigma_N X$"
   ]
  },
  {
   "cell_type": "code",
   "execution_count": 236,
   "metadata": {},
   "outputs": [
    {
     "data": {
      "image/png": "[encoded data removed]",
      "text/plain": [
       "<Figure size 432x288 with 1 Axes>"
      ]
     },
     "metadata": {
      "needs_background": "light"
     },
     "output_type": "display_data"
    }
   ],
   "source": [
    "plt.scatter(X[:,1], y)\n",
    "plt.plot(i, w0_true + w1_true * i, label='true', linestyle='dashed')\n",
    "plt.plot(i, w0_ls + w1_ls * i, label='least squares')\n",
    "plt.plot(i, w0_bayes + w1_bayes * i, label='bayes mean', c=\"g\")\n",
    "line = w0_bayes + w1_bayes * i\n",
    "error = 2 * np.sqrt(sigma_x)\n",
    "plt.fill_between(i, line - error, line + error, label=\"bayes 95.45%\", alpha=0.3, color=\"g\")\n",
    "plt.xlim(x_min, x_max)\n",
    "plt.legend()\n",
    "plt.title(\"Распределение точек и линии регрессии\")\n",
    "plt.show()"
   ]
  }
 ],
 "metadata": {
  "kernelspec": {
   "display_name": "Python 3",
   "language": "python",
   "name": "python3"
  },
  "language_info": {
   "codemirror_mode": {
    "name": "ipython",
    "version": 3
   },
   "file_extension": ".py",
   "mimetype": "text/x-python",
   "name": "python",
   "nbconvert_exporter": "python",
   "pygments_lexer": "ipython3",
   "version": "3.7.4"
  }
 },
 "nbformat": 4,
 "nbformat_minor": 4
}
