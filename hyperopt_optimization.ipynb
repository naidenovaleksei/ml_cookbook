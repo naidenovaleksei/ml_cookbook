{
 "cells": [
  {
   "cell_type": "code",
   "execution_count": 12,
   "metadata": {
    "ExecuteTime": {
     "end_time": "2019-11-13T10:04:50.780030Z",
     "start_time": "2019-11-13T10:04:50.775483Z"
    }
   },
   "outputs": [],
   "source": [
    "import numpy as np\n",
    "import warnings"
   ]
  },
  {
   "cell_type": "code",
   "execution_count": 121,
   "metadata": {
    "ExecuteTime": {
     "end_time": "2019-11-14T07:24:41.024260Z",
     "start_time": "2019-11-14T07:24:40.637354Z"
    }
   },
   "outputs": [],
   "source": [
    "import pandas as pd"
   ]
  },
  {
   "cell_type": "code",
   "execution_count": 130,
   "metadata": {
    "ExecuteTime": {
     "end_time": "2019-11-14T07:28:38.942928Z",
     "start_time": "2019-11-14T07:28:38.777346Z"
    }
   },
   "outputs": [],
   "source": [
    "import seaborn as sns"
   ]
  },
  {
   "cell_type": "code",
   "execution_count": 139,
   "metadata": {
    "ExecuteTime": {
     "end_time": "2019-11-14T08:44:08.510159Z",
     "start_time": "2019-11-14T08:44:08.504423Z"
    }
   },
   "outputs": [],
   "source": [
    "import scipy as sp"
   ]
  },
  {
   "cell_type": "code",
   "execution_count": 5,
   "metadata": {
    "ExecuteTime": {
     "end_time": "2019-11-13T10:00:04.818163Z",
     "start_time": "2019-11-13T10:00:04.500690Z"
    }
   },
   "outputs": [],
   "source": [
    "from sklearn.model_selection import cross_val_score\n",
    "from sklearn.datasets import fetch_20newsgroups\n",
    "from sklearn.feature_extraction.text import CountVectorizer\n",
    "from sklearn.feature_extraction.text import TfidfTransformer\n",
    "from sklearn.linear_model import LogisticRegression\n",
    "from sklearn.pipeline import make_pipeline"
   ]
  },
  {
   "cell_type": "code",
   "execution_count": 9,
   "metadata": {
    "ExecuteTime": {
     "end_time": "2019-11-13T10:03:26.369399Z",
     "start_time": "2019-11-13T10:03:24.588750Z"
    }
   },
   "outputs": [],
   "source": [
    "import text_classification_params_checker_custom\n",
    "checker = text_classification_params_checker_custom.Checker()"
   ]
  },
  {
   "cell_type": "code",
   "execution_count": 73,
   "metadata": {
    "ExecuteTime": {
     "end_time": "2019-11-13T10:39:53.562322Z",
     "start_time": "2019-11-13T10:39:53.555722Z"
    }
   },
   "outputs": [],
   "source": [
    "from hyperopt import fmin, tpe, hp, STATUS_OK, Trials, space_eval"
   ]
  },
  {
   "cell_type": "code",
   "execution_count": 14,
   "metadata": {
    "ExecuteTime": {
     "end_time": "2019-11-13T10:06:24.323171Z",
     "start_time": "2019-11-13T10:06:24.314826Z"
    }
   },
   "outputs": [],
   "source": [
    "warnings.filterwarnings('ignore', category=FutureWarning)"
   ]
  },
  {
   "cell_type": "markdown",
   "metadata": {},
   "source": [
    "### Проверка чекера"
   ]
  },
  {
   "cell_type": "code",
   "execution_count": 10,
   "metadata": {
    "ExecuteTime": {
     "end_time": "2019-11-13T10:04:08.746282Z",
     "start_time": "2019-11-13T10:04:08.737385Z"
    }
   },
   "outputs": [],
   "source": [
    "init_params = {\n",
    "    \"count_vectorizer_params\": \n",
    "    {\n",
    "        \"min_df\": 5,\n",
    "        \"ngram_range\": [1, 2]\n",
    "    }, \n",
    "    \"tfidf_transformer_params\": {\n",
    "        \"norm\": \"l1\"    \n",
    "    }, \n",
    "    \"logistic_regression_params\": {\n",
    "        \"C\": 1\n",
    "    }\n",
    "}"
   ]
  },
  {
   "cell_type": "code",
   "execution_count": 15,
   "metadata": {
    "ExecuteTime": {
     "end_time": "2019-11-13T10:06:29.014285Z",
     "start_time": "2019-11-13T10:06:24.900654Z"
    },
    "scrolled": false
   },
   "outputs": [
    {
     "data": {
      "text/plain": [
       "0.7803444566820602"
      ]
     },
     "execution_count": 15,
     "metadata": {},
     "output_type": "execute_result"
    }
   ],
   "source": [
    "# ('ivanov@gmail.com', 0.7803444566820602)\n",
    "warnings\n",
    "checker.check(init_params)"
   ]
  },
  {
   "cell_type": "markdown",
   "metadata": {},
   "source": [
    "# HyperOpt выбор гиперпараметров"
   ]
  },
  {
   "cell_type": "markdown",
   "metadata": {},
   "source": [
    "### Целевая функция"
   ]
  },
  {
   "cell_type": "code",
   "execution_count": 97,
   "metadata": {
    "ExecuteTime": {
     "end_time": "2019-11-13T11:02:28.633612Z",
     "start_time": "2019-11-13T11:02:28.627611Z"
    }
   },
   "outputs": [],
   "source": [
    "def score(params):\n",
    "    lr_param = params[\"lr_param\"]\n",
    "    new_params = {\n",
    "        \"count_vectorizer_params\": \n",
    "        {\n",
    "            \"min_df\": int(params['min_df']),\n",
    "            \"max_df\": params['max_df'],\n",
    "            \"ngram_range\": (1, params['ngram_range']),\n",
    "            \"lowercase\": params['lowercase'],\n",
    "            \"binary\": params['binary'],\n",
    "            \"max_features\": params['max_features'],\n",
    "        }, \n",
    "        \"tfidf_transformer_params\": {\n",
    "            \"norm\": params['norm'],\n",
    "            \"use_idf\": params['use_idf'],\n",
    "        }, \n",
    "        \"logistic_regression_params\": {\n",
    "            \"C\": params['C'],\n",
    "            \"n_jobs\": 4,\n",
    "            \"random_state\": 17,\n",
    "            \"solver\": lr_param[0],\n",
    "            \"multi_class\": lr_param[1],\n",
    "            \"penalty\": lr_param[2]\n",
    "        }\n",
    "    }\n",
    "    return - checker.check(new_params)"
   ]
  },
  {
   "cell_type": "markdown",
   "metadata": {},
   "source": [
    "## 1 итерация "
   ]
  },
  {
   "cell_type": "code",
   "execution_count": 98,
   "metadata": {
    "ExecuteTime": {
     "end_time": "2019-11-13T11:02:29.117359Z",
     "start_time": "2019-11-13T11:02:29.111535Z"
    }
   },
   "outputs": [],
   "source": [
    "warnings.filterwarnings('ignore', category=UserWarning)"
   ]
  },
  {
   "cell_type": "code",
   "execution_count": 99,
   "metadata": {
    "ExecuteTime": {
     "end_time": "2019-11-13T11:43:04.672577Z",
     "start_time": "2019-11-13T11:02:30.746596Z"
    }
   },
   "outputs": [
    {
     "name": "stdout",
     "output_type": "stream",
     "text": [
      "100%|██████████| 300/300 [40:33<00:00,  8.11s/it, best loss: -0.8632804463736686]  \n"
     ]
    }
   ],
   "source": [
    "space = {\n",
    "    \"min_df\": hp.uniformint(\"min_df\", 1, 15),\n",
    "    \"max_df\": hp.uniform(\"max_df\", 0.6, 1.0),\n",
    "    \"ngram_range\": hp.uniformint(\"ngram_range\", 1, 5),\n",
    "    \"lowercase\": hp.choice(\"lowercase\", [False, True]),\n",
    "    \"binary\": hp.choice(\"binary\", [False, True]),\n",
    "    \"max_features\": hp.uniformint(\"max_features\", 1000, 1000000),\n",
    "    \n",
    "    \"norm\": hp.choice(\"norm\", [\"l1\", \"l2\"]),\n",
    "    \"use_idf\": hp.choice(\"use_idf\", [False, True]),\n",
    "    \n",
    "    \"C\": hp.loguniform(\"C\", -16, 16),\n",
    "    \"lr_param\": hp.choice(\"lr_param\", [\n",
    "        ('lbfgs', 'multinomial', 'l2'),\n",
    "        ('lbfgs', 'ovr', 'l2'),\n",
    "        ('liblinear', 'ovr', 'l1')\n",
    "    ])\n",
    "}\n",
    "trials = Trials()\n",
    "best = fmin(fn=score, space=space, algo=tpe.suggest, max_evals=300, trials=trials)"
   ]
  },
  {
   "cell_type": "markdown",
   "metadata": {},
   "source": [
    "### Лучший результат"
   ]
  },
  {
   "cell_type": "code",
   "execution_count": 101,
   "metadata": {
    "ExecuteTime": {
     "end_time": "2019-11-13T12:18:48.120778Z",
     "start_time": "2019-11-13T12:18:48.115416Z"
    }
   },
   "outputs": [
    {
     "data": {
      "text/plain": [
       "{'C': 1683.1632392855847,\n",
       " 'binary': True,\n",
       " 'lowercase': True,\n",
       " 'lr_param': ('lbfgs', 'ovr', 'l2'),\n",
       " 'max_df': 0.8289692254477152,\n",
       " 'max_features': 523079,\n",
       " 'min_df': 3,\n",
       " 'ngram_range': 1,\n",
       " 'norm': 'l1',\n",
       " 'use_idf': True}"
      ]
     },
     "execution_count": 101,
     "metadata": {},
     "output_type": "execute_result"
    }
   ],
   "source": [
    "space_eval(space, best)"
   ]
  },
  {
   "cell_type": "code",
   "execution_count": 102,
   "metadata": {
    "ExecuteTime": {
     "end_time": "2019-11-13T12:19:06.923460Z",
     "start_time": "2019-11-13T12:19:03.002137Z"
    },
    "scrolled": true
   },
   "outputs": [
    {
     "data": {
      "text/plain": [
       "-0.8632804463736686"
      ]
     },
     "execution_count": 102,
     "metadata": {},
     "output_type": "execute_result"
    }
   ],
   "source": [
    "score(space_eval(space, best))"
   ]
  },
  {
   "cell_type": "markdown",
   "metadata": {},
   "source": [
    "### Собираем результаты"
   ]
  },
  {
   "cell_type": "code",
   "execution_count": 120,
   "metadata": {
    "ExecuteTime": {
     "end_time": "2019-11-14T07:24:24.137006Z",
     "start_time": "2019-11-14T07:24:24.131682Z"
    }
   },
   "outputs": [],
   "source": [
    "params_list = []\n",
    "for trial in trials:\n",
    "    params = {k: v[0] for k,v in trial['misc']['vals'].items()}\n",
    "    params.update(trial['result'])\n",
    "    params_list.append(params)"
   ]
  },
  {
   "cell_type": "code",
   "execution_count": 123,
   "metadata": {
    "ExecuteTime": {
     "end_time": "2019-11-14T07:24:58.671020Z",
     "start_time": "2019-11-14T07:24:58.662400Z"
    }
   },
   "outputs": [],
   "source": [
    "df_results = pd.DataFrame.from_dict(params_list)"
   ]
  },
  {
   "cell_type": "code",
   "execution_count": 125,
   "metadata": {
    "ExecuteTime": {
     "end_time": "2019-11-14T07:25:11.184799Z",
     "start_time": "2019-11-14T07:25:11.149152Z"
    }
   },
   "outputs": [
    {
     "data": {
      "text/html": [
       "<div>\n",
       "<style scoped>\n",
       "    .dataframe tbody tr th:only-of-type {\n",
       "        vertical-align: middle;\n",
       "    }\n",
       "\n",
       "    .dataframe tbody tr th {\n",
       "        vertical-align: top;\n",
       "    }\n",
       "\n",
       "    .dataframe thead th {\n",
       "        text-align: right;\n",
       "    }\n",
       "</style>\n",
       "<table border=\"1\" class=\"dataframe\">\n",
       "  <thead>\n",
       "    <tr style=\"text-align: right;\">\n",
       "      <th></th>\n",
       "      <th>C</th>\n",
       "      <th>binary</th>\n",
       "      <th>lowercase</th>\n",
       "      <th>lr_param</th>\n",
       "      <th>max_df</th>\n",
       "      <th>max_features</th>\n",
       "      <th>min_df</th>\n",
       "      <th>ngram_range</th>\n",
       "      <th>norm</th>\n",
       "      <th>use_idf</th>\n",
       "      <th>loss</th>\n",
       "      <th>status</th>\n",
       "    </tr>\n",
       "  </thead>\n",
       "  <tbody>\n",
       "    <tr>\n",
       "      <td>289</td>\n",
       "      <td>1683.163239</td>\n",
       "      <td>1</td>\n",
       "      <td>1</td>\n",
       "      <td>1</td>\n",
       "      <td>0.828969</td>\n",
       "      <td>523079.0</td>\n",
       "      <td>3.0</td>\n",
       "      <td>1.0</td>\n",
       "      <td>0</td>\n",
       "      <td>1</td>\n",
       "      <td>-0.863280</td>\n",
       "      <td>ok</td>\n",
       "    </tr>\n",
       "    <tr>\n",
       "      <td>299</td>\n",
       "      <td>3244.093278</td>\n",
       "      <td>1</td>\n",
       "      <td>1</td>\n",
       "      <td>1</td>\n",
       "      <td>0.913434</td>\n",
       "      <td>321270.0</td>\n",
       "      <td>2.0</td>\n",
       "      <td>1.0</td>\n",
       "      <td>0</td>\n",
       "      <td>1</td>\n",
       "      <td>-0.863030</td>\n",
       "      <td>ok</td>\n",
       "    </tr>\n",
       "    <tr>\n",
       "      <td>264</td>\n",
       "      <td>805.275579</td>\n",
       "      <td>1</td>\n",
       "      <td>1</td>\n",
       "      <td>1</td>\n",
       "      <td>0.905000</td>\n",
       "      <td>603789.0</td>\n",
       "      <td>3.0</td>\n",
       "      <td>1.0</td>\n",
       "      <td>0</td>\n",
       "      <td>1</td>\n",
       "      <td>-0.861773</td>\n",
       "      <td>ok</td>\n",
       "    </tr>\n",
       "    <tr>\n",
       "      <td>262</td>\n",
       "      <td>3986.041467</td>\n",
       "      <td>1</td>\n",
       "      <td>1</td>\n",
       "      <td>1</td>\n",
       "      <td>0.916471</td>\n",
       "      <td>611907.0</td>\n",
       "      <td>3.0</td>\n",
       "      <td>1.0</td>\n",
       "      <td>0</td>\n",
       "      <td>1</td>\n",
       "      <td>-0.861521</td>\n",
       "      <td>ok</td>\n",
       "    </tr>\n",
       "    <tr>\n",
       "      <td>272</td>\n",
       "      <td>826.183442</td>\n",
       "      <td>1</td>\n",
       "      <td>1</td>\n",
       "      <td>1</td>\n",
       "      <td>0.890334</td>\n",
       "      <td>584426.0</td>\n",
       "      <td>3.0</td>\n",
       "      <td>1.0</td>\n",
       "      <td>0</td>\n",
       "      <td>1</td>\n",
       "      <td>-0.861270</td>\n",
       "      <td>ok</td>\n",
       "    </tr>\n",
       "    <tr>\n",
       "      <td>...</td>\n",
       "      <td>...</td>\n",
       "      <td>...</td>\n",
       "      <td>...</td>\n",
       "      <td>...</td>\n",
       "      <td>...</td>\n",
       "      <td>...</td>\n",
       "      <td>...</td>\n",
       "      <td>...</td>\n",
       "      <td>...</td>\n",
       "      <td>...</td>\n",
       "      <td>...</td>\n",
       "      <td>...</td>\n",
       "    </tr>\n",
       "    <tr>\n",
       "      <td>19</td>\n",
       "      <td>0.004052</td>\n",
       "      <td>1</td>\n",
       "      <td>0</td>\n",
       "      <td>2</td>\n",
       "      <td>0.702824</td>\n",
       "      <td>762690.0</td>\n",
       "      <td>3.0</td>\n",
       "      <td>2.0</td>\n",
       "      <td>0</td>\n",
       "      <td>0</td>\n",
       "      <td>-0.251068</td>\n",
       "      <td>ok</td>\n",
       "    </tr>\n",
       "    <tr>\n",
       "      <td>204</td>\n",
       "      <td>0.000139</td>\n",
       "      <td>0</td>\n",
       "      <td>0</td>\n",
       "      <td>1</td>\n",
       "      <td>0.840172</td>\n",
       "      <td>804425.0</td>\n",
       "      <td>1.0</td>\n",
       "      <td>1.0</td>\n",
       "      <td>1</td>\n",
       "      <td>1</td>\n",
       "      <td>-0.251068</td>\n",
       "      <td>ok</td>\n",
       "    </tr>\n",
       "    <tr>\n",
       "      <td>40</td>\n",
       "      <td>0.000001</td>\n",
       "      <td>1</td>\n",
       "      <td>1</td>\n",
       "      <td>2</td>\n",
       "      <td>0.971889</td>\n",
       "      <td>692189.0</td>\n",
       "      <td>7.0</td>\n",
       "      <td>2.0</td>\n",
       "      <td>1</td>\n",
       "      <td>1</td>\n",
       "      <td>-0.248806</td>\n",
       "      <td>ok</td>\n",
       "    </tr>\n",
       "    <tr>\n",
       "      <td>5</td>\n",
       "      <td>0.000097</td>\n",
       "      <td>0</td>\n",
       "      <td>0</td>\n",
       "      <td>2</td>\n",
       "      <td>0.952758</td>\n",
       "      <td>423614.0</td>\n",
       "      <td>2.0</td>\n",
       "      <td>4.0</td>\n",
       "      <td>1</td>\n",
       "      <td>1</td>\n",
       "      <td>-0.248806</td>\n",
       "      <td>ok</td>\n",
       "    </tr>\n",
       "    <tr>\n",
       "      <td>6</td>\n",
       "      <td>0.000009</td>\n",
       "      <td>0</td>\n",
       "      <td>1</td>\n",
       "      <td>2</td>\n",
       "      <td>0.883204</td>\n",
       "      <td>781147.0</td>\n",
       "      <td>12.0</td>\n",
       "      <td>4.0</td>\n",
       "      <td>1</td>\n",
       "      <td>0</td>\n",
       "      <td>-0.248806</td>\n",
       "      <td>ok</td>\n",
       "    </tr>\n",
       "  </tbody>\n",
       "</table>\n",
       "<p>300 rows × 12 columns</p>\n",
       "</div>"
      ],
      "text/plain": [
       "               C  binary  lowercase  lr_param    max_df  max_features  min_df  \\\n",
       "289  1683.163239       1          1         1  0.828969      523079.0     3.0   \n",
       "299  3244.093278       1          1         1  0.913434      321270.0     2.0   \n",
       "264   805.275579       1          1         1  0.905000      603789.0     3.0   \n",
       "262  3986.041467       1          1         1  0.916471      611907.0     3.0   \n",
       "272   826.183442       1          1         1  0.890334      584426.0     3.0   \n",
       "..           ...     ...        ...       ...       ...           ...     ...   \n",
       "19      0.004052       1          0         2  0.702824      762690.0     3.0   \n",
       "204     0.000139       0          0         1  0.840172      804425.0     1.0   \n",
       "40      0.000001       1          1         2  0.971889      692189.0     7.0   \n",
       "5       0.000097       0          0         2  0.952758      423614.0     2.0   \n",
       "6       0.000009       0          1         2  0.883204      781147.0    12.0   \n",
       "\n",
       "     ngram_range  norm  use_idf      loss status  \n",
       "289          1.0     0        1 -0.863280     ok  \n",
       "299          1.0     0        1 -0.863030     ok  \n",
       "264          1.0     0        1 -0.861773     ok  \n",
       "262          1.0     0        1 -0.861521     ok  \n",
       "272          1.0     0        1 -0.861270     ok  \n",
       "..           ...   ...      ...       ...    ...  \n",
       "19           2.0     0        0 -0.251068     ok  \n",
       "204          1.0     1        1 -0.251068     ok  \n",
       "40           2.0     1        1 -0.248806     ok  \n",
       "5            4.0     1        1 -0.248806     ok  \n",
       "6            4.0     1        0 -0.248806     ok  \n",
       "\n",
       "[300 rows x 12 columns]"
      ]
     },
     "execution_count": 125,
     "metadata": {},
     "output_type": "execute_result"
    }
   ],
   "source": [
    "df_results.sort_values('loss')"
   ]
  },
  {
   "cell_type": "code",
   "execution_count": 172,
   "metadata": {
    "ExecuteTime": {
     "end_time": "2019-11-14T08:59:54.580951Z",
     "start_time": "2019-11-14T08:59:54.566569Z"
    }
   },
   "outputs": [],
   "source": [
    "# df_results.sort_values('loss').to_csv('results.csv')"
   ]
  },
  {
   "cell_type": "markdown",
   "metadata": {},
   "source": [
    "### Анализ"
   ]
  },
  {
   "cell_type": "markdown",
   "metadata": {},
   "source": [
    "#### binary"
   ]
  },
  {
   "cell_type": "code",
   "execution_count": 145,
   "metadata": {
    "ExecuteTime": {
     "end_time": "2019-11-14T08:45:58.162658Z",
     "start_time": "2019-11-14T08:45:57.983827Z"
    },
    "scrolled": true
   },
   "outputs": [
    {
     "data": {
      "text/plain": [
       "<matplotlib.axes._subplots.AxesSubplot at 0x7fbc02a65550>"
      ]
     },
     "execution_count": 145,
     "metadata": {},
     "output_type": "execute_result"
    },
    {
     "data": {
      "image/png": "[encoded data removed]",
      "text/plain": [
       "<Figure size 432x288 with 1 Axes>"
      ]
     },
     "metadata": {
      "needs_background": "light"
     },
     "output_type": "display_data"
    }
   ],
   "source": [
    "sns.boxplot(x='binary', y='loss', data=df_results)"
   ]
  },
  {
   "cell_type": "code",
   "execution_count": 146,
   "metadata": {
    "ExecuteTime": {
     "end_time": "2019-11-14T08:46:01.891474Z",
     "start_time": "2019-11-14T08:46:01.881884Z"
    }
   },
   "outputs": [
    {
     "data": {
      "text/plain": [
       "MannwhitneyuResult(statistic=5312.5, pvalue=0.047112194316375026)"
      ]
     },
     "execution_count": 146,
     "metadata": {},
     "output_type": "execute_result"
    }
   ],
   "source": [
    "sp.stats.mannwhitneyu(df_results.query(\"binary == True\")['loss'], df_results.query(\"binary == False\")['loss'])"
   ]
  },
  {
   "cell_type": "code",
   "execution_count": 148,
   "metadata": {
    "ExecuteTime": {
     "end_time": "2019-11-14T08:46:39.261805Z",
     "start_time": "2019-11-14T08:46:39.254746Z"
    }
   },
   "outputs": [
    {
     "data": {
      "text/plain": [
       "binary\n",
       "0   -0.826965\n",
       "1   -0.831111\n",
       "Name: loss, dtype: float64"
      ]
     },
     "execution_count": 148,
     "metadata": {},
     "output_type": "execute_result"
    }
   ],
   "source": [
    "df_results.groupby(\"binary\")['loss'].median()"
   ]
  },
  {
   "cell_type": "markdown",
   "metadata": {},
   "source": [
    "#### lowercase"
   ]
  },
  {
   "cell_type": "code",
   "execution_count": 149,
   "metadata": {
    "ExecuteTime": {
     "end_time": "2019-11-14T08:46:41.858945Z",
     "start_time": "2019-11-14T08:46:41.697080Z"
    },
    "scrolled": true
   },
   "outputs": [
    {
     "data": {
      "text/plain": [
       "<matplotlib.axes._subplots.AxesSubplot at 0x7fbc02403240>"
      ]
     },
     "execution_count": 149,
     "metadata": {},
     "output_type": "execute_result"
    },
    {
     "data": {
      "image/png": "[encoded data removed]",
      "text/plain": [
       "<Figure size 432x288 with 1 Axes>"
      ]
     },
     "metadata": {
      "needs_background": "light"
     },
     "output_type": "display_data"
    }
   ],
   "source": [
    "sns.boxplot(x='lowercase', y='loss', data=df_results)"
   ]
  },
  {
   "cell_type": "code",
   "execution_count": 150,
   "metadata": {
    "ExecuteTime": {
     "end_time": "2019-11-14T08:46:46.359935Z",
     "start_time": "2019-11-14T08:46:46.347806Z"
    }
   },
   "outputs": [
    {
     "data": {
      "text/plain": [
       "MannwhitneyuResult(statistic=11004.0, pvalue=0.4554245898394446)"
      ]
     },
     "execution_count": 150,
     "metadata": {},
     "output_type": "execute_result"
    }
   ],
   "source": [
    "sp.stats.mannwhitneyu(df_results.query(\"lowercase == True\")['loss'], df_results.query(\"lowercase == False\")['loss'])"
   ]
  },
  {
   "cell_type": "code",
   "execution_count": 151,
   "metadata": {
    "ExecuteTime": {
     "end_time": "2019-11-14T08:46:49.374764Z",
     "start_time": "2019-11-14T08:46:49.366938Z"
    },
    "scrolled": true
   },
   "outputs": [
    {
     "data": {
      "text/plain": [
       "lowercase\n",
       "0   -0.830231\n",
       "1   -0.830482\n",
       "Name: loss, dtype: float64"
      ]
     },
     "execution_count": 151,
     "metadata": {},
     "output_type": "execute_result"
    }
   ],
   "source": [
    "df_results.groupby(\"lowercase\")['loss'].median()"
   ]
  },
  {
   "cell_type": "markdown",
   "metadata": {},
   "source": [
    "#### lr_param"
   ]
  },
  {
   "cell_type": "code",
   "execution_count": 152,
   "metadata": {
    "ExecuteTime": {
     "end_time": "2019-11-14T08:47:38.527859Z",
     "start_time": "2019-11-14T08:47:38.331386Z"
    },
    "scrolled": true
   },
   "outputs": [
    {
     "data": {
      "text/plain": [
       "<matplotlib.axes._subplots.AxesSubplot at 0x7fbc02393080>"
      ]
     },
     "execution_count": 152,
     "metadata": {},
     "output_type": "execute_result"
    },
    {
     "data": {
      "image/png": "[encoded data removed]",
      "text/plain": [
       "<Figure size 432x288 with 1 Axes>"
      ]
     },
     "metadata": {
      "needs_background": "light"
     },
     "output_type": "display_data"
    }
   ],
   "source": [
    "sns.boxplot(x='lr_param', y='loss', data=df_results)"
   ]
  },
  {
   "cell_type": "code",
   "execution_count": 153,
   "metadata": {
    "ExecuteTime": {
     "end_time": "2019-11-14T08:50:32.328908Z",
     "start_time": "2019-11-14T08:50:32.295630Z"
    }
   },
   "outputs": [
    {
     "data": {
      "text/plain": [
       "KruskalResult(statistic=37.368779962326904, pvalue=7.681968702514479e-09)"
      ]
     },
     "execution_count": 153,
     "metadata": {},
     "output_type": "execute_result"
    }
   ],
   "source": [
    "s1 = df_results.query(\"lr_param == 0\")['loss']\n",
    "s2 = df_results.query(\"lr_param == 1\")['loss']\n",
    "s3 = df_results.query(\"lr_param == 2\")['loss']\n",
    "sp.stats.kruskal(s1, s2, s3)"
   ]
  },
  {
   "cell_type": "code",
   "execution_count": 154,
   "metadata": {
    "ExecuteTime": {
     "end_time": "2019-11-14T08:50:46.078989Z",
     "start_time": "2019-11-14T08:50:46.062924Z"
    },
    "scrolled": true
   },
   "outputs": [
    {
     "data": {
      "text/plain": [
       "lr_param\n",
       "0   -0.826462\n",
       "1   -0.840158\n",
       "2   -0.800699\n",
       "Name: loss, dtype: float64"
      ]
     },
     "execution_count": 154,
     "metadata": {},
     "output_type": "execute_result"
    }
   ],
   "source": [
    "df_results.groupby(\"lr_param\")['loss'].median()"
   ]
  },
  {
   "cell_type": "markdown",
   "metadata": {},
   "source": [
    "#### max_df"
   ]
  },
  {
   "cell_type": "code",
   "execution_count": 160,
   "metadata": {
    "ExecuteTime": {
     "end_time": "2019-11-14T08:54:31.032617Z",
     "start_time": "2019-11-14T08:54:30.823923Z"
    },
    "scrolled": true
   },
   "outputs": [
    {
     "data": {
      "text/plain": [
       "<matplotlib.axes._subplots.AxesSubplot at 0x7fbc0152b8d0>"
      ]
     },
     "execution_count": 160,
     "metadata": {},
     "output_type": "execute_result"
    },
    {
     "data": {
      "image/png": "[encoded data removed]",
      "text/plain": [
       "<Figure size 432x288 with 1 Axes>"
      ]
     },
     "metadata": {
      "needs_background": "light"
     },
     "output_type": "display_data"
    }
   ],
   "source": [
    "sns.scatterplot(x='max_df', y='loss', data=df_results)"
   ]
  },
  {
   "cell_type": "code",
   "execution_count": 161,
   "metadata": {
    "ExecuteTime": {
     "end_time": "2019-11-14T08:54:33.050467Z",
     "start_time": "2019-11-14T08:54:33.030744Z"
    },
    "scrolled": true
   },
   "outputs": [
    {
     "data": {
      "text/plain": [
       "SpearmanrResult(correlation=-0.14212413176913505, pvalue=0.013743237842438505)"
      ]
     },
     "execution_count": 161,
     "metadata": {},
     "output_type": "execute_result"
    }
   ],
   "source": [
    "sp.stats.spearmanr(df_results['max_df'], df_results['loss'])"
   ]
  },
  {
   "cell_type": "markdown",
   "metadata": {},
   "source": [
    "#### min_df"
   ]
  },
  {
   "cell_type": "code",
   "execution_count": 162,
   "metadata": {
    "ExecuteTime": {
     "end_time": "2019-11-14T08:54:43.788074Z",
     "start_time": "2019-11-14T08:54:43.596382Z"
    },
    "scrolled": true
   },
   "outputs": [
    {
     "data": {
      "text/plain": [
       "<matplotlib.axes._subplots.AxesSubplot at 0x7fbc0155e400>"
      ]
     },
     "execution_count": 162,
     "metadata": {},
     "output_type": "execute_result"
    },
    {
     "data": {
      "image/png": "[encoded data removed]",
      "text/plain": [
       "<Figure size 432x288 with 1 Axes>"
      ]
     },
     "metadata": {
      "needs_background": "light"
     },
     "output_type": "display_data"
    }
   ],
   "source": [
    "sns.scatterplot(x='min_df', y='loss', data=df_results)"
   ]
  },
  {
   "cell_type": "code",
   "execution_count": 163,
   "metadata": {
    "ExecuteTime": {
     "end_time": "2019-11-14T08:54:47.079120Z",
     "start_time": "2019-11-14T08:54:47.061328Z"
    }
   },
   "outputs": [
    {
     "data": {
      "text/plain": [
       "SpearmanrResult(correlation=0.393859346380362, pvalue=1.4243980639218358e-12)"
      ]
     },
     "execution_count": 163,
     "metadata": {},
     "output_type": "execute_result"
    }
   ],
   "source": [
    "sp.stats.spearmanr(df_results['min_df'], df_results['loss'])"
   ]
  },
  {
   "cell_type": "markdown",
   "metadata": {},
   "source": [
    "#### max_features"
   ]
  },
  {
   "cell_type": "code",
   "execution_count": 158,
   "metadata": {
    "ExecuteTime": {
     "end_time": "2019-11-14T08:52:25.808832Z",
     "start_time": "2019-11-14T08:52:25.603638Z"
    },
    "scrolled": true
   },
   "outputs": [
    {
     "data": {
      "text/plain": [
       "<matplotlib.axes._subplots.AxesSubplot at 0x7fbc016193c8>"
      ]
     },
     "execution_count": 158,
     "metadata": {},
     "output_type": "execute_result"
    },
    {
     "data": {
      "image/png": "[encoded data removed]",
      "text/plain": [
       "<Figure size 432x288 with 1 Axes>"
      ]
     },
     "metadata": {
      "needs_background": "light"
     },
     "output_type": "display_data"
    }
   ],
   "source": [
    "sns.scatterplot(x='max_features', y='loss', data=df_results)"
   ]
  },
  {
   "cell_type": "code",
   "execution_count": 159,
   "metadata": {
    "ExecuteTime": {
     "end_time": "2019-11-14T08:53:33.488647Z",
     "start_time": "2019-11-14T08:53:33.476675Z"
    },
    "scrolled": false
   },
   "outputs": [
    {
     "data": {
      "text/plain": [
       "SpearmanrResult(correlation=-0.1765465510122894, pvalue=0.0021459381190966588)"
      ]
     },
     "execution_count": 159,
     "metadata": {},
     "output_type": "execute_result"
    }
   ],
   "source": [
    "sp.stats.spearmanr(df_results['max_features'], df_results['loss'])"
   ]
  },
  {
   "cell_type": "markdown",
   "metadata": {},
   "source": [
    "#### ngram_range"
   ]
  },
  {
   "cell_type": "code",
   "execution_count": 164,
   "metadata": {
    "ExecuteTime": {
     "end_time": "2019-11-14T08:56:04.597438Z",
     "start_time": "2019-11-14T08:56:04.374142Z"
    },
    "scrolled": true
   },
   "outputs": [
    {
     "data": {
      "text/plain": [
       "<matplotlib.axes._subplots.AxesSubplot at 0x7fbc01408048>"
      ]
     },
     "execution_count": 164,
     "metadata": {},
     "output_type": "execute_result"
    },
    {
     "data": {
      "image/png": "[encoded data removed]",
      "text/plain": [
       "<Figure size 432x288 with 1 Axes>"
      ]
     },
     "metadata": {
      "needs_background": "light"
     },
     "output_type": "display_data"
    }
   ],
   "source": [
    "sns.scatterplot(x='ngram_range', y='loss', data=df_results)"
   ]
  },
  {
   "cell_type": "code",
   "execution_count": 165,
   "metadata": {
    "ExecuteTime": {
     "end_time": "2019-11-14T08:56:04.647686Z",
     "start_time": "2019-11-14T08:56:04.641390Z"
    },
    "scrolled": true
   },
   "outputs": [
    {
     "data": {
      "text/plain": [
       "SpearmanrResult(correlation=0.2945370645014085, pvalue=2.036787782908319e-07)"
      ]
     },
     "execution_count": 165,
     "metadata": {},
     "output_type": "execute_result"
    }
   ],
   "source": [
    "sp.stats.spearmanr(df_results['ngram_range'], df_results['loss'])"
   ]
  },
  {
   "cell_type": "markdown",
   "metadata": {},
   "source": [
    "#### C"
   ]
  },
  {
   "cell_type": "code",
   "execution_count": 176,
   "metadata": {
    "ExecuteTime": {
     "end_time": "2019-11-14T09:19:22.585109Z",
     "start_time": "2019-11-14T09:19:22.380916Z"
    },
    "scrolled": true
   },
   "outputs": [
    {
     "data": {
      "text/plain": [
       "<matplotlib.axes._subplots.AxesSubplot at 0x7fbc020b28d0>"
      ]
     },
     "execution_count": 176,
     "metadata": {},
     "output_type": "execute_result"
    },
    {
     "data": {
      "image/png": "[encoded data removed]",
      "text/plain": [
       "<Figure size 432x288 with 1 Axes>"
      ]
     },
     "metadata": {
      "needs_background": "light"
     },
     "output_type": "display_data"
    }
   ],
   "source": [
    "sns.scatterplot(x='C', y='loss', data=df_results)"
   ]
  },
  {
   "cell_type": "code",
   "execution_count": 177,
   "metadata": {
    "ExecuteTime": {
     "end_time": "2019-11-14T09:19:23.288440Z",
     "start_time": "2019-11-14T09:19:23.274524Z"
    },
    "scrolled": true
   },
   "outputs": [
    {
     "data": {
      "text/plain": [
       "SpearmanrResult(correlation=-0.4549953308681493, pvalue=9.796990105233565e-17)"
      ]
     },
     "execution_count": 177,
     "metadata": {},
     "output_type": "execute_result"
    }
   ],
   "source": [
    "sp.stats.spearmanr(df_results['C'], df_results['loss'])"
   ]
  },
  {
   "cell_type": "markdown",
   "metadata": {},
   "source": [
    "#### norm"
   ]
  },
  {
   "cell_type": "code",
   "execution_count": 169,
   "metadata": {
    "ExecuteTime": {
     "end_time": "2019-11-14T08:57:06.577608Z",
     "start_time": "2019-11-14T08:57:06.408627Z"
    },
    "scrolled": true
   },
   "outputs": [
    {
     "data": {
      "text/plain": [
       "<matplotlib.axes._subplots.AxesSubplot at 0x7fbc012659e8>"
      ]
     },
     "execution_count": 169,
     "metadata": {},
     "output_type": "execute_result"
    },
    {
     "data": {
      "image/png": "[encoded data removed]",
      "text/plain": [
       "<Figure size 432x288 with 1 Axes>"
      ]
     },
     "metadata": {
      "needs_background": "light"
     },
     "output_type": "display_data"
    }
   ],
   "source": [
    "sns.boxplot(x='norm', y='loss', data=df_results)"
   ]
  },
  {
   "cell_type": "code",
   "execution_count": 170,
   "metadata": {
    "ExecuteTime": {
     "end_time": "2019-11-14T08:57:11.013550Z",
     "start_time": "2019-11-14T08:57:11.003695Z"
    }
   },
   "outputs": [
    {
     "data": {
      "text/plain": [
       "MannwhitneyuResult(statistic=10696.0, pvalue=0.2844432669044802)"
      ]
     },
     "execution_count": 170,
     "metadata": {},
     "output_type": "execute_result"
    }
   ],
   "source": [
    "sp.stats.mannwhitneyu(df_results.query(\"norm == True\")['loss'], df_results.query(\"norm == False\")['loss'])"
   ]
  },
  {
   "cell_type": "code",
   "execution_count": 171,
   "metadata": {
    "ExecuteTime": {
     "end_time": "2019-11-14T08:57:11.175718Z",
     "start_time": "2019-11-14T08:57:11.167661Z"
    },
    "scrolled": true
   },
   "outputs": [
    {
     "data": {
      "text/plain": [
       "norm\n",
       "0   -0.829728\n",
       "1   -0.831740\n",
       "Name: loss, dtype: float64"
      ]
     },
     "execution_count": 171,
     "metadata": {},
     "output_type": "execute_result"
    }
   ],
   "source": [
    "df_results.groupby(\"norm\")['loss'].median()"
   ]
  },
  {
   "cell_type": "markdown",
   "metadata": {},
   "source": [
    "#### use_idf"
   ]
  },
  {
   "cell_type": "code",
   "execution_count": 166,
   "metadata": {
    "ExecuteTime": {
     "end_time": "2019-11-14T08:57:06.577608Z",
     "start_time": "2019-11-14T08:57:06.408627Z"
    },
    "scrolled": true
   },
   "outputs": [
    {
     "data": {
      "text/plain": [
       "<matplotlib.axes._subplots.AxesSubplot at 0x7fbc012f9a90>"
      ]
     },
     "execution_count": 166,
     "metadata": {},
     "output_type": "execute_result"
    },
    {
     "data": {
      "image/png": "[encoded data removed]",
      "text/plain": [
       "<Figure size 432x288 with 1 Axes>"
      ]
     },
     "metadata": {
      "needs_background": "light"
     },
     "output_type": "display_data"
    }
   ],
   "source": [
    "sns.boxplot(x='use_idf', y='loss', data=df_results)"
   ]
  },
  {
   "cell_type": "code",
   "execution_count": 167,
   "metadata": {
    "ExecuteTime": {
     "end_time": "2019-11-14T08:57:11.013550Z",
     "start_time": "2019-11-14T08:57:11.003695Z"
    }
   },
   "outputs": [
    {
     "data": {
      "text/plain": [
       "MannwhitneyuResult(statistic=2636.0, pvalue=2.3615140546661605e-11)"
      ]
     },
     "execution_count": 167,
     "metadata": {},
     "output_type": "execute_result"
    }
   ],
   "source": [
    "sp.stats.mannwhitneyu(df_results.query(\"use_idf == True\")['loss'], df_results.query(\"use_idf == False\")['loss'])"
   ]
  },
  {
   "cell_type": "code",
   "execution_count": 168,
   "metadata": {
    "ExecuteTime": {
     "end_time": "2019-11-14T08:57:11.175718Z",
     "start_time": "2019-11-14T08:57:11.167661Z"
    },
    "scrolled": true
   },
   "outputs": [
    {
     "data": {
      "text/plain": [
       "use_idf\n",
       "0   -0.806478\n",
       "1   -0.839153\n",
       "Name: loss, dtype: float64"
      ]
     },
     "execution_count": 168,
     "metadata": {},
     "output_type": "execute_result"
    }
   ],
   "source": [
    "df_results.groupby(\"use_idf\")['loss'].median()"
   ]
  },
  {
   "cell_type": "markdown",
   "metadata": {},
   "source": [
    "## 2 итерация"
   ]
  },
  {
   "cell_type": "code",
   "execution_count": 178,
   "metadata": {
    "ExecuteTime": {
     "end_time": "2019-11-14T09:33:18.274703Z",
     "start_time": "2019-11-14T09:20:51.336517Z"
    }
   },
   "outputs": [
    {
     "name": "stdout",
     "output_type": "stream",
     "text": [
      "100%|██████████| 100/100 [12:26<00:00,  7.47s/it, best loss: -0.8708205984459365]\n"
     ]
    }
   ],
   "source": [
    "space = {\n",
    "    \"min_df\": hp.uniformint(\"min_df\", 1, 5),\n",
    "    \"max_df\": hp.uniform(\"max_df\", 0.7, 1.0),\n",
    "    \"ngram_range\": hp.uniformint(\"ngram_range\", 1, 3),\n",
    "    \"lowercase\": True,\n",
    "    \"binary\": True,\n",
    "    \"max_features\": hp.uniformint(\"max_features\", 10000, 1000000),\n",
    "    \n",
    "    \"norm\": \"l1\",\n",
    "    \"use_idf\": True,\n",
    "    \n",
    "    \"C\": hp.loguniform(\"C\", -16, 16),\n",
    "    \"lr_param\": ('lbfgs', 'ovr', 'l2')\n",
    "}\n",
    "trials = Trials()\n",
    "best = fmin(fn=score, space=space, algo=tpe.suggest, max_evals=100, trials=trials)"
   ]
  },
  {
   "cell_type": "code",
   "execution_count": 180,
   "metadata": {
    "ExecuteTime": {
     "end_time": "2019-11-14T10:40:05.709983Z",
     "start_time": "2019-11-14T10:40:05.705365Z"
    }
   },
   "outputs": [
    {
     "data": {
      "text/plain": [
       "{'C': 3469.6334697379507,\n",
       " 'binary': True,\n",
       " 'lowercase': True,\n",
       " 'lr_param': ('lbfgs', 'ovr', 'l2'),\n",
       " 'max_df': 0.8804125006523876,\n",
       " 'max_features': 246472,\n",
       " 'min_df': 1,\n",
       " 'ngram_range': 1,\n",
       " 'norm': 'l1',\n",
       " 'use_idf': True}"
      ]
     },
     "execution_count": 180,
     "metadata": {},
     "output_type": "execute_result"
    }
   ],
   "source": [
    "space_eval(space, best)"
   ]
  },
  {
   "cell_type": "code",
   "execution_count": 181,
   "metadata": {
    "ExecuteTime": {
     "end_time": "2019-11-14T10:40:16.911490Z",
     "start_time": "2019-11-14T10:40:12.201227Z"
    }
   },
   "outputs": [
    {
     "data": {
      "text/plain": [
       "-0.8708205984459365"
      ]
     },
     "execution_count": 181,
     "metadata": {},
     "output_type": "execute_result"
    }
   ],
   "source": [
    "score(space_eval(space, best))"
   ]
  },
  {
   "cell_type": "code",
   "execution_count": 187,
   "metadata": {
    "ExecuteTime": {
     "end_time": "2019-11-14T10:48:06.291995Z",
     "start_time": "2019-11-14T10:48:06.278878Z"
    },
    "scrolled": true
   },
   "outputs": [
    {
     "data": {
      "text/plain": [
       "{'C': 3469.6334697379507,\n",
       " 'binary': True,\n",
       " 'lowercase': True,\n",
       " 'lr_param': ('lbfgs', 'ovr', 'l2'),\n",
       " 'max_df': 0.8804125006523876,\n",
       " 'max_features': 246472,\n",
       " 'min_df': 1,\n",
       " 'ngram_range': 1,\n",
       " 'norm': 'l1',\n",
       " 'use_idf': True}"
      ]
     },
     "execution_count": 187,
     "metadata": {},
     "output_type": "execute_result"
    }
   ],
   "source": [
    "space_eval(space, best)"
   ]
  },
  {
   "cell_type": "code",
   "execution_count": 197,
   "metadata": {
    "ExecuteTime": {
     "end_time": "2019-11-14T10:53:27.784993Z",
     "start_time": "2019-11-14T10:53:27.772238Z"
    }
   },
   "outputs": [],
   "source": [
    "def convert(params):\n",
    "    lr_param = params[\"lr_param\"]\n",
    "    new_params = {\n",
    "        \"count_vectorizer_params\": \n",
    "        {\n",
    "            \"min_df\": int(params['min_df']),\n",
    "            \"max_df\": params['max_df'],\n",
    "            \"ngram_range\": (1, params['ngram_range']),\n",
    "            \"lowercase\": params['lowercase'],\n",
    "            \"binary\": params['binary'],\n",
    "            \"max_features\": params['max_features'],\n",
    "        }, \n",
    "        \"tfidf_transformer_params\": {\n",
    "            \"norm\": params['norm'],\n",
    "            \"use_idf\": params['use_idf'],\n",
    "        }, \n",
    "        \"logistic_regression_params\": {\n",
    "            \"C\": params['C'],\n",
    "            \"n_jobs\": 4,\n",
    "            \"random_state\": 17,\n",
    "            \"solver\": lr_param[0],\n",
    "            \"multi_class\": lr_param[1],\n",
    "            \"penalty\": lr_param[2]\n",
    "        }\n",
    "    }\n",
    "    return new_params"
   ]
  },
  {
   "cell_type": "code",
   "execution_count": 198,
   "metadata": {
    "ExecuteTime": {
     "end_time": "2019-11-14T10:53:33.022418Z",
     "start_time": "2019-11-14T10:53:33.011054Z"
    }
   },
   "outputs": [],
   "source": [
    "res = convert(space_eval(space, best))\n",
    "res[\"author_email\"] = \"naidenov.aleksei@yandex.ru\""
   ]
  },
  {
   "cell_type": "code",
   "execution_count": 199,
   "metadata": {
    "ExecuteTime": {
     "end_time": "2019-11-14T10:53:33.792429Z",
     "start_time": "2019-11-14T10:53:33.783941Z"
    }
   },
   "outputs": [],
   "source": [
    "import json\n",
    "\n",
    "with open(\"text_classification_params_naidenov.json\", \"w\") as f:\n",
    "    f.write(json.dumps(res).replace(\"'\", '\"'))"
   ]
  },
  {
   "cell_type": "code",
   "execution_count": null,
   "metadata": {},
   "outputs": [],
   "source": []
  }
 ],
 "metadata": {
  "kernelspec": {
   "display_name": "dmia_industry_kernel",
   "language": "python",
   "name": "dmia_industry_kernel"
  },
  "language_info": {
   "codemirror_mode": {
    "name": "ipython",
    "version": 3
   },
   "file_extension": ".py",
   "mimetype": "text/x-python",
   "name": "python",
   "nbconvert_exporter": "python",
   "pygments_lexer": "ipython3",
   "version": "3.6.8"
  },
  "varInspector": {
   "cols": {
    "lenName": 16,
    "lenType": 16,
    "lenVar": 40
   },
   "kernels_config": {
    "python": {
     "delete_cmd_postfix": "",
     "delete_cmd_prefix": "del ",
     "library": "var_list.py",
     "varRefreshCmd": "print(var_dic_list())"
    },
    "r": {
     "delete_cmd_postfix": ") ",
     "delete_cmd_prefix": "rm(",
     "library": "var_list.r",
     "varRefreshCmd": "cat(var_dic_list()) "
    }
   },
   "types_to_exclude": [
    "module",
    "function",
    "builtin_function_or_method",
    "instance",
    "_Feature"
   ],
   "window_display": false
  }
 },
 "nbformat": 4,
 "nbformat_minor": 2
}
